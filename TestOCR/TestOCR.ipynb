{
 "cells": [
  {
   "cell_type": "markdown",
   "metadata": {},
   "source": [
    "### Estrazione testo da PDF (immagini)\n",
    "\n",
    "#### Innanzi tutto sono necessari i seguenti tools:\n",
    "\n",
    "- pdf2image : modulo python che consente l'estrazione di immagini da pdf. In pratica converte ogni pagina di un pdf in una immagine PIL. Necessità l'installazione di poppler (Poppler is a PDF rendering library. Include the pdftoppm utility).<br>  vedi note di installazione su https://pypi.org/project/pdf2image/\n",
    "- pytesseract : python wrapper per Google Tesseract OCR Engine\n",
    "- PIL : image processing library. E' più semplice e leggera di OpenCV (che ha molte più funzionalità ed è più veloce veloce). Entrambe le librerie supportano:\n",
    "    - conversione tra diversi formati immagine\n",
    "    - trasformazione di immagini\n",
    "    - filtering\n",
    "    \n",
    "Vedi tutorial https://nanonets.com/blog/ocr-with-tesseract/\n",
    "    "
   ]
  },
  {
   "cell_type": "code",
   "execution_count": 29,
   "metadata": {},
   "outputs": [],
   "source": [
    "from pdf2image import convert_from_path \n",
    "import pytesseract\n",
    "from PIL import Image \n",
    "import cv2\n",
    "\n",
    "PDF_file = \"riepilogo_F24.pdf\""
   ]
  },
  {
   "cell_type": "code",
   "execution_count": 30,
   "metadata": {},
   "outputs": [],
   "source": [
    "pages = convert_from_path(pdf_path=PDF_file, dpi=300) \n",
    "    \n",
    "image_counter = 1\n",
    "  \n",
    "# Iterate through all the pages stored above \n",
    "for page in pages: \n",
    "  \n",
    "    # Declaring filename for each page of PDF as JPG \n",
    "    # For each page, filename will be: \n",
    "    # PDF page 1 -> page_1.jpg \n",
    "    # PDF page 2 -> page_2.jpg \n",
    "    # PDF page 3 -> page_3.jpg \n",
    "    # .... \n",
    "    # PDF page n -> page_n.jpg \n",
    "    filename = \"temp\\\\page_\"+str(image_counter)+\".jpg\"\n",
    "      \n",
    "    # Save the image of the page in system \n",
    "    page.save(filename, 'JPEG') \n",
    "  \n",
    "    # Increment the counter to update filename \n",
    "    image_counter = image_counter + 1\n",
    "\n",
    "#2 - Recognizing text from the images using OCR \n",
    "# Variable to get count of total number of pages \n",
    "filelimit = image_counter-1\n",
    "  \n",
    "# Creating a text file to write the output \n",
    "outfile = \"temp\\\\out_text.txt\"\n",
    "\n",
    "# Open the file in append mode so that  \n",
    "# All contents of all images are added to the same file \n",
    "f = open(outfile, \"a\") \n",
    "\n",
    "# Iterate from 1 to total number of pages \n",
    "for i in range(1, filelimit + 1): \n",
    "  \n",
    "    # Set filename to recognize text from \n",
    "    # Again, these files will be: \n",
    "    # page_1.jpg \n",
    "    # page_2.jpg \n",
    "    # .... \n",
    "    # page_n.jpg \n",
    "    filename = \"temp\\\\page_\"+str(i)+\".jpg\"\n",
    "          \n",
    "    # apro l'immagine e la converto in PIL Image\n",
    "#    img = Image.open(filename)\n",
    "    # apro l'immagine e la converto in OpenCV Image\n",
    "    img = cv2.imread(filename)\n",
    "    # Recognize the text as string in image using pytesserct \n",
    "    custom_config = r'--oem 3 --psm 6'\n",
    "    text = str(((pytesseract.image_to_string(img, config=custom_config)))) \n",
    "  \n",
    "    # Finally, write the processed text to the file. \n",
    "    f.write(text) \n",
    "  \n",
    "# Close the file after writing all the text. \n",
    "f.close() "
   ]
  },
  {
   "cell_type": "code",
   "execution_count": null,
   "metadata": {},
   "outputs": [],
   "source": []
  }
 ],
 "metadata": {
  "kernelspec": {
   "display_name": "Python [conda env:michele]",
   "language": "python",
   "name": "conda-env-michele-py"
  },
  "language_info": {
   "codemirror_mode": {
    "name": "ipython",
    "version": 3
   },
   "file_extension": ".py",
   "mimetype": "text/x-python",
   "name": "python",
   "nbconvert_exporter": "python",
   "pygments_lexer": "ipython3",
   "version": "3.8.5"
  }
 },
 "nbformat": 4,
 "nbformat_minor": 4
}
